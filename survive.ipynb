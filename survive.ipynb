{
 "cells": [
  {
   "cell_type": "markdown",
   "metadata": {},
   "source": [
    "# active / inactive"
   ]
  },
  {
   "cell_type": "markdown",
   "metadata": {},
   "source": [
    "this notebook generates acvtive / inactive table for fp shoplst daily.  \n",
    "there should be 2 functions, \n",
    "\n",
    "1. create active / inactive\n",
    "given a start and end date, this function should fetch all data in this time interval, concat them, \n",
    "and make an active table and inactive table.  \n",
    "\n",
    "2. update to target\n",
    "given a target date, this function should update the active table day by day until the target date. "
   ]
  },
  {
   "cell_type": "markdown",
   "metadata": {},
   "source": [
    "## lib"
   ]
  },
  {
   "cell_type": "code",
   "execution_count": 9,
   "metadata": {},
   "outputs": [],
   "source": [
    "import pandas as pd\n",
    "import numpy as np \n",
    "import os\n",
    "import traceback\n",
    "from concurrent.futures import ThreadPoolExecutor\n",
    "from tqdm import tqdm\n",
    "from typing import List, Optional, Dict"
   ]
  },
  {
   "cell_type": "markdown",
   "metadata": {},
   "source": [
    "## func"
   ]
  },
  {
   "cell_type": "code",
   "execution_count": 27,
   "metadata": {},
   "outputs": [],
   "source": [
    "from pathlib import Path\n",
    "import pandas as pd\n",
    "from concurrent.futures import ThreadPoolExecutor\n",
    "import traceback\n",
    "from typing import List, Optional, Dict\n",
    "\n",
    "def deep_find_files(file_format: str, directory: str, *keywords: str) -> List[str]:\n",
    "    '''\n",
    "    Use rglob to recursively search for files with the given format in the specified directory and all subdirectories\n",
    "    '''\n",
    "    return [\n",
    "        str(file)\n",
    "        for file in Path(directory).rglob(f'*.{file_format}')\n",
    "        if all(keyword in file.name for keyword in keywords)\n",
    "    ]\n",
    "\n",
    "def concat_folder(folder_path, keywords: List[str], max_workers=8):\n",
    "    \"\"\"\n",
    "    Read every CSV under `folder_path` (and subfolders) in parallel,\n",
    "    add a column `scrape_batch_date` extracted from the folder name,\n",
    "    and return one concatenated DataFrame (or empty DataFrame if none).\n",
    "    \"\"\"\n",
    "    try:\n",
    "        # Find all CSV files in the folder (and its subfolders)\n",
    "        csv_files = deep_find_files('csv', folder_path, *keywords)\n",
    "        print(f\"Found {len(csv_files)} CSV files in {folder_path}\")\n",
    "        if not csv_files:\n",
    "            return pd.DataFrame()\n",
    "\n",
    "        # Assume folder_path ends with YYYY-MM-DD\n",
    "        date_str = os.path.basename(os.path.normpath(folder_path))\n",
    "\n",
    "        dfs = []\n",
    "        with ThreadPoolExecutor(max_workers=max_workers) as executor:\n",
    "            # Submit all reads in parallel\n",
    "            futures = {executor.submit(pd.read_csv, fp): fp for fp in csv_files}\n",
    "            for fut in futures:\n",
    "                fp = futures[fut]\n",
    "                try:\n",
    "                    df = fut.result()\n",
    "                    # Add the scrape_batch_date column\n",
    "                    df['scrape_batch_date'] = date_str\n",
    "                    dfs.append(df)\n",
    "                except Exception as e:\n",
    "                    print(f\"⚠️ failed to read {fp}: {e}\")\n",
    "\n",
    "        # Concatenate or return empty DataFrame\n",
    "        return pd.concat(dfs, ignore_index=True) if dfs else pd.DataFrame()\n",
    "\n",
    "    except Exception:\n",
    "        print(f\"Error in concat_folder({folder_path}):\")\n",
    "        traceback.print_exc()\n",
    "        return pd.DataFrame()"
   ]
  },
  {
   "cell_type": "code",
   "execution_count": 28,
   "metadata": {},
   "outputs": [],
   "source": [
    "def update_survival_dfs(base_folder, \n",
    "                        start_date, end_date,\n",
    "                        keywords,\n",
    "                        max_workers=8,\n",
    "                        active_file=\"active_shops.csv\", \n",
    "                        inactive_file=\"inactive_shops.csv\"):\n",
    "    \"\"\"\n",
    "    Updates existing active/inactive shop files with new data.\n",
    "    \n",
    "    1) Reads existing active & inactive CSVs if they exist\n",
    "    2) Loads new data from specified date range\n",
    "    3) Combines all data and recalculates active/inactive status\n",
    "    4) Saves updated files\n",
    "    \"\"\"\n",
    "    import os\n",
    "    \n",
    "    # Read existing files if they exist\n",
    "    existing_active = pd.DataFrame()\n",
    "    existing_inactive = pd.DataFrame()\n",
    "    \n",
    "    if os.path.exists(active_file):\n",
    "        try:\n",
    "            existing_active = pd.read_csv(active_file)\n",
    "            print(f\"Loaded {len(existing_active)} shops from {active_file}\")\n",
    "        except Exception as e:\n",
    "            print(f\"Error reading {active_file}: {e}\")\n",
    "    \n",
    "    if os.path.exists(inactive_file):\n",
    "        try:\n",
    "            existing_inactive = pd.read_csv(inactive_file)\n",
    "            print(f\"Loaded {len(existing_inactive)} shops from {inactive_file}\")\n",
    "        except Exception as e:\n",
    "            print(f\"Error reading {inactive_file}: {e}\")\n",
    "    \n",
    "    # Process new data\n",
    "    try:\n",
    "        # build list of date-folders\n",
    "        dates = pd.date_range(start=start_date, end=end_date)\n",
    "        folders = [f\"{base_folder}/{d.strftime('%Y-%m-%d')}\" for d in dates]\n",
    "        \n",
    "        # parallel load with progress bar\n",
    "        dfs = []\n",
    "        with ThreadPoolExecutor(max_workers=max_workers) as executor:\n",
    "            for df in tqdm(\n",
    "                executor.map(lambda fp: concat_folder(fp, keywords, max_workers), folders),\n",
    "                total=len(folders),\n",
    "                desc=\"Processing new dates\",\n",
    "            ):\n",
    "                if not df.empty:\n",
    "                    dfs.append(df)\n",
    "        \n",
    "        if not dfs:\n",
    "            print(f\"No new data found in any folder from {start_date} to {end_date}\")\n",
    "            # If we have existing data, just return it\n",
    "            if not (existing_active.empty and existing_inactive.empty):\n",
    "                return existing_active, existing_inactive\n",
    "            else:\n",
    "                return pd.DataFrame(), pd.DataFrame()\n",
    "        \n",
    "        # merge all daily data from new period\n",
    "        new_date_shoplst_df = pd.concat(dfs, ignore_index=True)\n",
    "        \n",
    "        # ensure datetime\n",
    "        new_date_shoplst_df['scrape_batch_date'] = pd.to_datetime(\n",
    "            new_date_shoplst_df['scrape_batch_date'],\n",
    "            format='%Y-%m-%d'\n",
    "        )\n",
    "        \n",
    "        # Prepare existing data to merge with new data\n",
    "        existing_combined = pd.DataFrame()\n",
    "        if not (existing_active.empty and existing_inactive.empty):\n",
    "            # Convert date columns to datetime in existing data\n",
    "            for df in [existing_active, existing_inactive]:\n",
    "                if not df.empty:\n",
    "                    for col in ['scrape_batch_date', 'first_seen', 'last_seen']:\n",
    "                        if col in df.columns:\n",
    "                            df[col] = pd.to_datetime(df[col])\n",
    "            \n",
    "            # Combine existing active and inactive\n",
    "            existing_combined = pd.concat([existing_active, existing_inactive], ignore_index=True)\n",
    "            \n",
    "            # Extract just the raw data columns (excluding first_seen, last_seen)\n",
    "            cols_to_keep = [col for col in existing_combined.columns \n",
    "                           if col not in ['first_seen', 'last_seen']]\n",
    "            \n",
    "            existing_raw = existing_combined[cols_to_keep].copy()\n",
    "            \n",
    "            # Combine with new data\n",
    "            date_shoplst_df = pd.concat([existing_raw, new_date_shoplst_df], ignore_index=True)\n",
    "        else:\n",
    "            date_shoplst_df = new_date_shoplst_df\n",
    "            \n",
    "        # Remove potential duplicates (same shop on same day)\n",
    "        date_shoplst_df = date_shoplst_df.drop_duplicates(\n",
    "            subset=['shopCode', 'scrape_batch_date'], \n",
    "            keep='last'\n",
    "        )\n",
    "        \n",
    "        # compute first & last seen per shop\n",
    "        shop_dates = (\n",
    "            date_shoplst_df\n",
    "            .groupby('shopCode')['scrape_batch_date']\n",
    "            .agg(first_seen='min', last_seen='max')\n",
    "            .reset_index()\n",
    "        )\n",
    "        \n",
    "        # grab each shop's full row at its last_seen date\n",
    "        last_record_df = (\n",
    "            date_shoplst_df\n",
    "            .sort_values(['shopCode','scrape_batch_date'], ascending=[True, False])\n",
    "            .drop_duplicates(subset='shopCode', keep='first')\n",
    "        )\n",
    "        \n",
    "        # merge to bring in first_seen/last_seen\n",
    "        merged = last_record_df.merge(shop_dates, on='shopCode', how='left')\n",
    "        \n",
    "        # reference = latest last_seen\n",
    "        reference_date = shop_dates['last_seen'].max()\n",
    "        merged['days_since_last'] = (reference_date - merged['last_seen']).dt.days\n",
    "        \n",
    "        # split\n",
    "        active_df = merged[merged['days_since_last'] < 60].drop(columns='days_since_last')\n",
    "        inactive_df = merged[merged['days_since_last'] >= 60].drop(columns='days_since_last')\n",
    "        \n",
    "        # Save updated files\n",
    "        active_df.to_csv(active_file, encoding=\"utf-8-sig\", index=False)\n",
    "        print(f\"Saved {len(active_df)} active shops to {active_file}\")\n",
    "        \n",
    "        inactive_df.to_csv(inactive_file, encoding=\"utf-8-sig\", index=False)\n",
    "        print(f\"Saved {len(inactive_df)} inactive shops to {inactive_file}\")\n",
    "        \n",
    "        return active_df, inactive_df\n",
    "        \n",
    "    except Exception:\n",
    "        print(\"Error in update_survival_dfs:\")\n",
    "        traceback.print_exc()\n",
    "        if not (existing_active.empty and existing_inactive.empty):\n",
    "            print(\"Returning existing data without updates\")\n",
    "            return existing_active, existing_inactive\n",
    "        return pd.DataFrame(), pd.DataFrame()\n"
   ]
  },
  {
   "cell_type": "markdown",
   "metadata": {},
   "source": [
    "## implement on test data"
   ]
  },
  {
   "cell_type": "code",
   "execution_count": 30,
   "metadata": {},
   "outputs": [
    {
     "name": "stdout",
     "output_type": "stream",
     "text": [
      "Found 2 CSV files in data/survive_test_data/2024-01-03Found 2 CSV files in data/survive_test_data/2024-01-01\n",
      "\n",
      "Found 2 CSV files in data/survive_test_data/2024-01-02\n",
      "Found 2 CSV files in data/survive_test_data/2024-01-04\n",
      "Found 0 CSV files in data/survive_test_data/2024-01-07\n",
      "Found 0 CSV files in data/survive_test_data/2024-01-05\n",
      "Found 0 CSV files in data/survive_test_data/2024-01-06\n",
      "Found 0 CSV files in data/survive_test_data/2024-01-08\n",
      "Found 0 CSV files in data/survive_test_data/2024-01-09\n",
      "Found 2 CSV files in data/survive_test_data/2024-01-12\n",
      "Found 2 CSV files in data/survive_test_data/2024-01-10\n",
      "Found 2 CSV files in data/survive_test_data/2024-01-11\n",
      "Found 2 CSV files in data/survive_test_data/2024-01-13\n"
     ]
    },
    {
     "name": "stderr",
     "output_type": "stream",
     "text": [
      "Processing new dates:   0%|          | 0/366 [00:00<?, ?it/s]"
     ]
    },
    {
     "name": "stdout",
     "output_type": "stream",
     "text": [
      "Found 2 CSV files in data/survive_test_data/2024-01-14\n",
      "Found 2 CSV files in data/survive_test_data/2024-01-15\n",
      "Found 2 CSV files in data/survive_test_data/2024-01-16\n",
      "Found 2 CSV files in data/survive_test_data/2024-01-18\n",
      "Found 2 CSV files in data/survive_test_data/2024-01-17\n",
      "Found 2 CSV files in data/survive_test_data/2024-01-19\n",
      "Found 2 CSV files in data/survive_test_data/2024-01-20\n"
     ]
    },
    {
     "name": "stderr",
     "output_type": "stream",
     "text": [
      "Processing new dates:   4%|▍         | 16/366 [00:00<00:02, 154.75it/s]"
     ]
    },
    {
     "name": "stdout",
     "output_type": "stream",
     "text": [
      "Found 2 CSV files in data/survive_test_data/2024-01-21\n",
      "Found 2 CSV files in data/survive_test_data/2024-01-23\n",
      "Found 2 CSV files in data/survive_test_data/2024-01-22\n",
      "Found 2 CSV files in data/survive_test_data/2024-01-24\n",
      "Found 2 CSV files in data/survive_test_data/2024-01-25\n",
      "Found 2 CSV files in data/survive_test_data/2024-01-26\n",
      "Found 2 CSV files in data/survive_test_data/2024-01-27\n",
      "Found 2 CSV files in data/survive_test_data/2024-01-28\n",
      "Found 2 CSV files in data/survive_test_data/2024-01-29\n",
      "Found 2 CSV files in data/survive_test_data/2024-01-30\n",
      "Found 2 CSV files in data/survive_test_data/2024-01-31\n",
      "Found 2 CSV files in data/survive_test_data/2024-02-02Found 2 CSV files in data/survive_test_data/2024-02-03\n",
      "\n",
      "Found 2 CSV files in data/survive_test_data/2024-02-04\n",
      "Found 2 CSV files in data/survive_test_data/2024-02-01\n",
      "Found 2 CSV files in data/survive_test_data/2024-02-05\n",
      "Found 2 CSV files in data/survive_test_data/2024-02-06\n",
      "Found 2 CSV files in data/survive_test_data/2024-02-07\n",
      "Found 2 CSV files in data/survive_test_data/2024-02-08\n"
     ]
    },
    {
     "name": "stderr",
     "output_type": "stream",
     "text": [
      "Processing new dates:   9%|▊         | 32/366 [00:00<00:02, 122.72it/s]"
     ]
    },
    {
     "name": "stdout",
     "output_type": "stream",
     "text": [
      "Found 2 CSV files in data/survive_test_data/2024-02-09\n",
      "Found 2 CSV files in data/survive_test_data/2024-02-10\n",
      "Found 2 CSV files in data/survive_test_data/2024-02-12\n",
      "Found 2 CSV files in data/survive_test_data/2024-02-11\n",
      "Found 2 CSV files in data/survive_test_data/2024-02-13\n",
      "Found 2 CSV files in data/survive_test_data/2024-02-15\n",
      "Found 2 CSV files in data/survive_test_data/2024-02-14\n"
     ]
    },
    {
     "name": "stderr",
     "output_type": "stream",
     "text": [
      "Processing new dates:  12%|█▏        | 45/366 [00:00<00:03, 90.87it/s] "
     ]
    },
    {
     "name": "stdout",
     "output_type": "stream",
     "text": [
      "Found 2 CSV files in data/survive_test_data/2024-02-16\n",
      "Found 2 CSV files in data/survive_test_data/2024-02-17\n",
      "Found 2 CSV files in data/survive_test_data/2024-02-18\n",
      "Found 2 CSV files in data/survive_test_data/2024-02-19\n",
      "Found 0 CSV files in data/survive_test_data/2024-02-20\n",
      "Found 2 CSV files in data/survive_test_data/2024-02-21\n",
      "Found 0 CSV files in data/survive_test_data/2024-02-22\n",
      "Found 0 CSV files in data/survive_test_data/2024-02-24\n",
      "Found 0 CSV files in data/survive_test_data/2024-02-23\n",
      "Found 2 CSV files in data/survive_test_data/2024-02-26\n",
      "Found 2 CSV files in data/survive_test_data/2024-02-25\n"
     ]
    },
    {
     "name": "stderr",
     "output_type": "stream",
     "text": [
      "Processing new dates:  17%|█▋        | 61/366 [00:00<00:02, 110.70it/s]"
     ]
    },
    {
     "name": "stdout",
     "output_type": "stream",
     "text": [
      "Found 2 CSV files in data/survive_test_data/2024-02-27\n",
      "Found 2 CSV files in data/survive_test_data/2024-02-28\n",
      "Found 2 CSV files in data/survive_test_data/2024-03-01\n",
      "Found 2 CSV files in data/survive_test_data/2024-03-02\n",
      "Found 2 CSV files in data/survive_test_data/2024-02-29\n",
      "Found 2 CSV files in data/survive_test_data/2024-03-03\n",
      "Found 2 CSV files in data/survive_test_data/2024-03-04\n",
      "Found 0 CSV files in data/survive_test_data/2024-03-06\n",
      "Found 2 CSV files in data/survive_test_data/2024-03-05\n",
      "Found 0 CSV files in data/survive_test_data/2024-03-07\n",
      "Found 2 CSV files in data/survive_test_data/2024-03-09\n",
      "Found 2 CSV files in data/survive_test_data/2024-03-08\n",
      "Found 2 CSV files in data/survive_test_data/2024-03-12\n",
      "Found 2 CSV files in data/survive_test_data/2024-03-10\n",
      "Found 2 CSV files in data/survive_test_data/2024-03-13\n",
      "Found 2 CSV files in data/survive_test_data/2024-03-14\n",
      "Found 1 CSV files in data/survive_test_data/2024-03-11\n",
      "Found 0 CSV files in data/survive_test_data/2024-03-15\n",
      "Found 2 CSV files in data/survive_test_data/2024-03-16\n",
      "Found 2 CSV files in data/survive_test_data/2024-03-18\n",
      "Found 2 CSV files in data/survive_test_data/2024-03-17\n"
     ]
    },
    {
     "name": "stderr",
     "output_type": "stream",
     "text": [
      "Processing new dates:  28%|██▊       | 102/366 [00:00<00:02, 131.90it/s]"
     ]
    },
    {
     "name": "stdout",
     "output_type": "stream",
     "text": [
      "Found 2 CSV files in data/survive_test_data/2024-03-19\n",
      "Found 2 CSV files in data/survive_test_data/2024-03-20\n",
      "Found 2 CSV files in data/survive_test_data/2024-03-21\n",
      "Found 2 CSV files in data/survive_test_data/2024-03-22\n",
      "Found 2 CSV files in data/survive_test_data/2024-03-25\n",
      "Found 2 CSV files in data/survive_test_data/2024-03-23\n",
      "Found 2 CSV files in data/survive_test_data/2024-03-26\n",
      "Found 2 CSV files in data/survive_test_data/2024-03-24\n",
      "Found 2 CSV files in data/survive_test_data/2024-03-28\n",
      "Found 2 CSV files in data/survive_test_data/2024-03-27\n",
      "Found 0 CSV files in data/survive_test_data/2024-03-30\n",
      "Found 0 CSV files in data/survive_test_data/2024-04-02\n",
      "Found 0 CSV files in data/survive_test_data/2024-03-29\n",
      "Found 0 CSV files in data/survive_test_data/2024-04-01\n",
      "Found 0 CSV files in data/survive_test_data/2024-04-03\n",
      "Found 0 CSV files in data/survive_test_data/2024-04-05\n",
      "Found 0 CSV files in data/survive_test_data/2024-04-04\n",
      "Found 2 CSV files in data/survive_test_data/2024-03-31\n",
      "Found 0 CSV files in data/survive_test_data/2024-04-08\n",
      "Found 0 CSV files in data/survive_test_data/2024-04-06\n",
      "Found 0 CSV files in data/survive_test_data/2024-04-07\n",
      "Found 0 CSV files in data/survive_test_data/2024-04-10\n",
      "Found 0 CSV files in data/survive_test_data/2024-04-09\n",
      "Found 2 CSV files in data/survive_test_data/2024-04-14\n",
      "Found 2 CSV files in data/survive_test_data/2024-04-11\n",
      "Found 2 CSV files in data/survive_test_data/2024-04-12\n",
      "Found 2 CSV files in data/survive_test_data/2024-04-13\n",
      "Found 2 CSV files in data/survive_test_data/2024-04-15\n",
      "Found 2 CSV files in data/survive_test_data/2024-04-16\n",
      "Found 0 CSV files in data/survive_test_data/2024-04-17\n",
      "Found 2 CSV files in data/survive_test_data/2024-04-18\n",
      "Found 2 CSV files in data/survive_test_data/2024-04-19\n",
      "Found 2 CSV files in data/survive_test_data/2024-04-20\n",
      "Found 2 CSV files in data/survive_test_data/2024-04-21\n",
      "Found 2 CSV files in data/survive_test_data/2024-04-23\n",
      "Found 2 CSV files in data/survive_test_data/2024-04-22\n",
      "Found 2 CSV files in data/survive_test_data/2024-04-24\n",
      "Found 2 CSV files in data/survive_test_data/2024-04-25\n",
      "Found 2 CSV files in data/survive_test_data/2024-04-26\n",
      "Found 2 CSV files in data/survive_test_data/2024-04-27\n",
      "Found 2 CSV files in data/survive_test_data/2024-04-30\n",
      "Found 2 CSV files in data/survive_test_data/2024-05-01\n",
      "Found 2 CSV files in data/survive_test_data/2024-04-28\n",
      "Found 2 CSV files in data/survive_test_data/2024-04-29\n",
      "Found 2 CSV files in data/survive_test_data/2024-05-02\n",
      "Found 2 CSV files in data/survive_test_data/2024-05-03\n"
     ]
    },
    {
     "name": "stderr",
     "output_type": "stream",
     "text": [
      "Processing new dates:  37%|███▋      | 137/366 [00:01<00:01, 134.61it/s]"
     ]
    },
    {
     "name": "stdout",
     "output_type": "stream",
     "text": [
      "Found 2 CSV files in data/survive_test_data/2024-05-04\n",
      "Found 2 CSV files in data/survive_test_data/2024-05-05\n",
      "Found 2 CSV files in data/survive_test_data/2024-05-06\n",
      "Found 2 CSV files in data/survive_test_data/2024-05-08\n",
      "Found 2 CSV files in data/survive_test_data/2024-05-07\n",
      "Found 2 CSV files in data/survive_test_data/2024-05-10\n",
      "Found 2 CSV files in data/survive_test_data/2024-05-09\n",
      "Found 2 CSV files in data/survive_test_data/2024-05-11\n",
      "Found 2 CSV files in data/survive_test_data/2024-05-12\n",
      "Found 2 CSV files in data/survive_test_data/2024-05-15\n",
      "Found 2 CSV files in data/survive_test_data/2024-05-14\n",
      "Found 2 CSV files in data/survive_test_data/2024-05-13\n",
      "Found 2 CSV files in data/survive_test_data/2024-05-16\n",
      "Found 2 CSV files in data/survive_test_data/2024-05-18\n",
      "Found 2 CSV files in data/survive_test_data/2024-05-17\n",
      "Found 2 CSV files in data/survive_test_data/2024-05-21\n",
      "Found 2 CSV files in data/survive_test_data/2024-05-20\n",
      "Found 2 CSV files in data/survive_test_data/2024-05-19\n",
      "Found 2 CSV files in data/survive_test_data/2024-05-22\n",
      "Found 2 CSV files in data/survive_test_data/2024-05-23\n",
      "Found 2 CSV files in data/survive_test_data/2024-05-24\n",
      "Found 2 CSV files in data/survive_test_data/2024-05-25\n",
      "Found 2 CSV files in data/survive_test_data/2024-05-26\n",
      "Found 2 CSV files in data/survive_test_data/2024-05-27\n",
      "Found 2 CSV files in data/survive_test_data/2024-05-28\n",
      "Found 2 CSV files in data/survive_test_data/2024-05-29\n",
      "Found 2 CSV files in data/survive_test_data/2024-05-30\n",
      "Found 2 CSV files in data/survive_test_data/2024-05-31\n"
     ]
    },
    {
     "name": "stderr",
     "output_type": "stream",
     "text": [
      "Processing new dates:  46%|████▌     | 169/366 [00:01<00:01, 145.07it/s]"
     ]
    },
    {
     "name": "stdout",
     "output_type": "stream",
     "text": [
      "Found 2 CSV files in data/survive_test_data/2024-06-01\n",
      "Found 2 CSV files in data/survive_test_data/2024-06-02\n",
      "Found 2 CSV files in data/survive_test_data/2024-06-03\n",
      "Found 2 CSV files in data/survive_test_data/2024-06-04\n",
      "Found 2 CSV files in data/survive_test_data/2024-06-05\n",
      "Found 2 CSV files in data/survive_test_data/2024-06-06\n",
      "Found 2 CSV files in data/survive_test_data/2024-06-07\n",
      "Found 2 CSV files in data/survive_test_data/2024-06-08\n",
      "Found 2 CSV files in data/survive_test_data/2024-06-09\n",
      "Found 2 CSV files in data/survive_test_data/2024-06-10\n",
      "Found 2 CSV files in data/survive_test_data/2024-06-12\n",
      "Found 2 CSV files in data/survive_test_data/2024-06-11\n",
      "Found 2 CSV files in data/survive_test_data/2024-06-13\n",
      "Found 2 CSV files in data/survive_test_data/2024-06-14\n",
      "Found 2 CSV files in data/survive_test_data/2024-06-15\n",
      "Found 2 CSV files in data/survive_test_data/2024-06-16\n",
      "Found 2 CSV files in data/survive_test_data/2024-06-17\n",
      "Found 2 CSV files in data/survive_test_data/2024-06-18\n",
      "Found 2 CSV files in data/survive_test_data/2024-06-19\n",
      "Found 2 CSV files in data/survive_test_data/2024-06-20\n",
      "Found 2 CSV files in data/survive_test_data/2024-06-21\n",
      "Found 0 CSV files in data/survive_test_data/2024-06-22\n",
      "Found 0 CSV files in data/survive_test_data/2024-06-24\n",
      "Found 0 CSV files in data/survive_test_data/2024-06-23\n",
      "Found 0 CSV files in data/survive_test_data/2024-06-25\n",
      "Found 2 CSV files in data/survive_test_data/2024-06-26\n",
      "Found 0 CSV files in data/survive_test_data/2024-06-28\n",
      "Found 2 CSV files in data/survive_test_data/2024-06-27\n",
      "Found 2 CSV files in data/survive_test_data/2024-06-29\n",
      "Found 2 CSV files in data/survive_test_data/2024-06-30\n",
      "Found 2 CSV files in data/survive_test_data/2024-07-03\n",
      "Found 2 CSV files in data/survive_test_data/2024-07-01\n",
      "Found 2 CSV files in data/survive_test_data/2024-07-02\n",
      "Found 2 CSV files in data/survive_test_data/2024-07-04\n",
      "Found 2 CSV files in data/survive_test_data/2024-07-05\n",
      "Found 2 CSV files in data/survive_test_data/2024-07-06\n",
      "Found 2 CSV files in data/survive_test_data/2024-07-07\n",
      "Found 2 CSV files in data/survive_test_data/2024-07-08\n",
      "Found 2 CSV files in data/survive_test_data/2024-07-09\n",
      "Found 2 CSV files in data/survive_test_data/2024-07-10\n",
      "Found 2 CSV files in data/survive_test_data/2024-07-11\n"
     ]
    },
    {
     "name": "stderr",
     "output_type": "stream",
     "text": [
      "Processing new dates:  58%|█████▊    | 211/366 [00:01<00:00, 168.19it/s]"
     ]
    },
    {
     "name": "stdout",
     "output_type": "stream",
     "text": [
      "Found 2 CSV files in data/survive_test_data/2024-07-12\n",
      "Found 2 CSV files in data/survive_test_data/2024-07-13\n",
      "Found 2 CSV files in data/survive_test_data/2024-07-14\n",
      "Found 2 CSV files in data/survive_test_data/2024-07-15\n",
      "Found 2 CSV files in data/survive_test_data/2024-07-16\n",
      "Found 2 CSV files in data/survive_test_data/2024-07-17\n",
      "Found 2 CSV files in data/survive_test_data/2024-07-18\n",
      "Found 2 CSV files in data/survive_test_data/2024-07-19\n",
      "Found 2 CSV files in data/survive_test_data/2024-07-20\n",
      "Found 2 CSV files in data/survive_test_data/2024-07-21\n",
      "Found 2 CSV files in data/survive_test_data/2024-07-22\n",
      "Found 2 CSV files in data/survive_test_data/2024-07-23\n",
      "Found 2 CSV files in data/survive_test_data/2024-07-24\n",
      "Found 2 CSV files in data/survive_test_data/2024-07-25\n",
      "Found 2 CSV files in data/survive_test_data/2024-07-26\n",
      "Found 2 CSV files in data/survive_test_data/2024-07-27\n",
      "Found 2 CSV files in data/survive_test_data/2024-07-28\n",
      "Found 2 CSV files in data/survive_test_data/2024-07-29\n",
      "Found 2 CSV files in data/survive_test_data/2024-07-30\n",
      "Found 0 CSV files in data/survive_test_data/2024-07-31\n",
      "Found 2 CSV files in data/survive_test_data/2024-08-01\n",
      "Found 2 CSV files in data/survive_test_data/2024-08-02\n",
      "Found 2 CSV files in data/survive_test_data/2024-08-03\n",
      "Found 2 CSV files in data/survive_test_data/2024-08-04\n",
      "Found 2 CSV files in data/survive_test_data/2024-08-05\n",
      "Found 2 CSV files in data/survive_test_data/2024-08-07\n",
      "Found 2 CSV files in data/survive_test_data/2024-08-06\n",
      "Found 2 CSV files in data/survive_test_data/2024-08-08\n",
      "Found 2 CSV files in data/survive_test_data/2024-08-09\n",
      "Found 2 CSV files in data/survive_test_data/2024-08-10\n",
      "Found 2 CSV files in data/survive_test_data/2024-08-11\n",
      "Found 2 CSV files in data/survive_test_data/2024-08-13\n",
      "Found 2 CSV files in data/survive_test_data/2024-08-12\n",
      "Found 2 CSV files in data/survive_test_data/2024-08-14\n"
     ]
    },
    {
     "name": "stderr",
     "output_type": "stream",
     "text": [
      "Processing new dates:  63%|██████▎   | 229/366 [00:01<00:00, 157.85it/s]"
     ]
    },
    {
     "name": "stdout",
     "output_type": "stream",
     "text": [
      "Found 2 CSV files in data/survive_test_data/2024-08-16\n",
      "Found 2 CSV files in data/survive_test_data/2024-08-15\n",
      "Found 2 CSV files in data/survive_test_data/2024-08-17\n",
      "Found 2 CSV files in data/survive_test_data/2024-08-18\n",
      "Found 2 CSV files in data/survive_test_data/2024-08-19\n",
      "Found 2 CSV files in data/survive_test_data/2024-08-20\n",
      "Found 2 CSV files in data/survive_test_data/2024-08-21\n",
      "Found 2 CSV files in data/survive_test_data/2024-08-22\n",
      "Found 2 CSV files in data/survive_test_data/2024-08-23\n",
      "Found 2 CSV files in data/survive_test_data/2024-08-24\n",
      "Found 2 CSV files in data/survive_test_data/2024-08-25\n",
      "Found 2 CSV files in data/survive_test_data/2024-08-26\n",
      "Found 2 CSV files in data/survive_test_data/2024-08-27\n",
      "Found 2 CSV files in data/survive_test_data/2024-08-29\n",
      "Found 2 CSV files in data/survive_test_data/2024-08-28\n",
      "Found 2 CSV files in data/survive_test_data/2024-08-30\n",
      "Found 2 CSV files in data/survive_test_data/2024-08-31\n",
      "Found 2 CSV files in data/survive_test_data/2024-09-02\n",
      "Found 2 CSV files in data/survive_test_data/2024-09-01\n",
      "Found 2 CSV files in data/survive_test_data/2024-09-03\n"
     ]
    },
    {
     "name": "stderr",
     "output_type": "stream",
     "text": [
      "Processing new dates:  71%|███████▏  | 261/366 [00:01<00:00, 134.15it/s]"
     ]
    },
    {
     "name": "stdout",
     "output_type": "stream",
     "text": [
      "Found 2 CSV files in data/survive_test_data/2024-09-04\n",
      "Found 2 CSV files in data/survive_test_data/2024-09-05\n",
      "Found 2 CSV files in data/survive_test_data/2024-09-06\n",
      "Found 2 CSV files in data/survive_test_data/2024-09-08\n",
      "Found 2 CSV files in data/survive_test_data/2024-09-07\n",
      "Found 2 CSV files in data/survive_test_data/2024-09-09\n",
      "Found 2 CSV files in data/survive_test_data/2024-09-10\n",
      "Found 2 CSV files in data/survive_test_data/2024-09-11\n",
      "Found 2 CSV files in data/survive_test_data/2024-09-12\n",
      "Found 2 CSV files in data/survive_test_data/2024-09-13\n",
      "Found 2 CSV files in data/survive_test_data/2024-09-14\n",
      "Found 2 CSV files in data/survive_test_data/2024-09-15\n",
      "Found 2 CSV files in data/survive_test_data/2024-09-16\n",
      "Found 2 CSV files in data/survive_test_data/2024-09-17\n",
      "Found 2 CSV files in data/survive_test_data/2024-09-18\n",
      "Found 2 CSV files in data/survive_test_data/2024-09-19\n",
      "Found 2 CSV files in data/survive_test_data/2024-09-20\n",
      "Found 2 CSV files in data/survive_test_data/2024-09-21\n",
      "Found 2 CSV files in data/survive_test_data/2024-09-23\n",
      "Found 2 CSV files in data/survive_test_data/2024-09-22\n",
      "Found 2 CSV files in data/survive_test_data/2024-09-24\n",
      "Found 2 CSV files in data/survive_test_data/2024-09-25\n",
      "Found 2 CSV files in data/survive_test_data/2024-09-26\n",
      "Found 2 CSV files in data/survive_test_data/2024-09-27\n",
      "Found 2 CSV files in data/survive_test_data/2024-09-28\n",
      "Found 2 CSV files in data/survive_test_data/2024-09-30\n",
      "Found 2 CSV files in data/survive_test_data/2024-09-29\n",
      "Found 2 CSV files in data/survive_test_data/2024-10-01\n",
      "Found 2 CSV files in data/survive_test_data/2024-10-02\n",
      "Found 2 CSV files in data/survive_test_data/2024-10-04\n",
      "Found 2 CSV files in data/survive_test_data/2024-10-03\n"
     ]
    },
    {
     "name": "stderr",
     "output_type": "stream",
     "text": [
      "Processing new dates:  79%|███████▉  | 289/366 [00:02<00:00, 131.99it/s]"
     ]
    },
    {
     "name": "stdout",
     "output_type": "stream",
     "text": [
      "Found 2 CSV files in data/survive_test_data/2024-10-05\n",
      "Found 2 CSV files in data/survive_test_data/2024-10-06\n",
      "Found 2 CSV files in data/survive_test_data/2024-10-07\n",
      "Found 2 CSV files in data/survive_test_data/2024-10-08\n",
      "Found 2 CSV files in data/survive_test_data/2024-10-10\n",
      "Found 2 CSV files in data/survive_test_data/2024-10-09\n",
      "Found 2 CSV files in data/survive_test_data/2024-10-11\n",
      "Found 2 CSV files in data/survive_test_data/2024-10-12\n",
      "Found 2 CSV files in data/survive_test_data/2024-10-13\n",
      "Found 2 CSV files in data/survive_test_data/2024-10-14\n",
      "Found 2 CSV files in data/survive_test_data/2024-10-15\n",
      "Found 2 CSV files in data/survive_test_data/2024-10-16\n",
      "Found 2 CSV files in data/survive_test_data/2024-10-17\n",
      "Found 2 CSV files in data/survive_test_data/2024-10-18\n",
      "Found 2 CSV files in data/survive_test_data/2024-10-19\n",
      "Found 2 CSV files in data/survive_test_data/2024-10-20\n",
      "Found 2 CSV files in data/survive_test_data/2024-10-21\n",
      "Found 2 CSV files in data/survive_test_data/2024-10-22\n",
      "Found 2 CSV files in data/survive_test_data/2024-10-23\n",
      "Found 2 CSV files in data/survive_test_data/2024-10-24\n",
      "Found 2 CSV files in data/survive_test_data/2024-10-26\n",
      "Found 2 CSV files in data/survive_test_data/2024-10-25\n",
      "Found 2 CSV files in data/survive_test_data/2024-10-27\n",
      "Found 2 CSV files in data/survive_test_data/2024-10-28\n",
      "Found 2 CSV files in data/survive_test_data/2024-10-29\n",
      "Found 2 CSV files in data/survive_test_data/2024-10-30\n",
      "Found 2 CSV files in data/survive_test_data/2024-10-31\n",
      "Found 2 CSV files in data/survive_test_data/2024-11-01\n"
     ]
    },
    {
     "name": "stderr",
     "output_type": "stream",
     "text": [
      "Processing new dates:  87%|████████▋ | 319/366 [00:02<00:00, 136.85it/s]"
     ]
    },
    {
     "name": "stdout",
     "output_type": "stream",
     "text": [
      "Found 2 CSV files in data/survive_test_data/2024-11-02\n",
      "Found 2 CSV files in data/survive_test_data/2024-11-03\n",
      "Found 2 CSV files in data/survive_test_data/2024-11-04\n",
      "Found 2 CSV files in data/survive_test_data/2024-11-06\n",
      "Found 2 CSV files in data/survive_test_data/2024-11-05\n",
      "Found 2 CSV files in data/survive_test_data/2024-11-07\n",
      "Found 2 CSV files in data/survive_test_data/2024-11-09\n",
      "Found 2 CSV files in data/survive_test_data/2024-11-08\n",
      "Found 2 CSV files in data/survive_test_data/2024-11-10\n",
      "Found 2 CSV files in data/survive_test_data/2024-11-11\n",
      "Found 2 CSV files in data/survive_test_data/2024-11-13\n",
      "Found 2 CSV files in data/survive_test_data/2024-11-12\n",
      "Found 2 CSV files in data/survive_test_data/2024-11-14\n",
      "Found 2 CSV files in data/survive_test_data/2024-11-15\n",
      "Found 2 CSV files in data/survive_test_data/2024-11-16\n",
      "Found 0 CSV files in data/survive_test_data/2024-11-18\n",
      "Found 2 CSV files in data/survive_test_data/2024-11-17\n",
      "Found 0 CSV files in data/survive_test_data/2024-11-19\n",
      "Found 2 CSV files in data/survive_test_data/2024-11-20\n",
      "Found 2 CSV files in data/survive_test_data/2024-11-21\n",
      "Found 2 CSV files in data/survive_test_data/2024-11-22\n",
      "Found 2 CSV files in data/survive_test_data/2024-11-23\n",
      "Found 2 CSV files in data/survive_test_data/2024-11-24\n",
      "Found 2 CSV files in data/survive_test_data/2024-11-25\n",
      "Found 2 CSV files in data/survive_test_data/2024-11-26\n",
      "Found 2 CSV files in data/survive_test_data/2024-11-27\n",
      "Found 2 CSV files in data/survive_test_data/2024-11-28\n",
      "Found 2 CSV files in data/survive_test_data/2024-11-29\n",
      "Found 2 CSV files in data/survive_test_data/2024-11-30\n",
      "Found 2 CSV files in data/survive_test_data/2024-12-01\n"
     ]
    },
    {
     "name": "stderr",
     "output_type": "stream",
     "text": [
      "Processing new dates:  95%|█████████▌| 349/366 [00:02<00:00, 135.05it/s]"
     ]
    },
    {
     "name": "stdout",
     "output_type": "stream",
     "text": [
      "Found 2 CSV files in data/survive_test_data/2024-12-02\n",
      "Found 2 CSV files in data/survive_test_data/2024-12-03\n",
      "Found 2 CSV files in data/survive_test_data/2024-12-04\n",
      "Found 2 CSV files in data/survive_test_data/2024-12-06\n",
      "Found 2 CSV files in data/survive_test_data/2024-12-05\n",
      "Found 2 CSV files in data/survive_test_data/2024-12-07\n",
      "Found 2 CSV files in data/survive_test_data/2024-12-08\n",
      "Found 2 CSV files in data/survive_test_data/2024-12-09\n",
      "Found 2 CSV files in data/survive_test_data/2024-12-10\n",
      "Found 2 CSV files in data/survive_test_data/2024-12-11\n",
      "Found 2 CSV files in data/survive_test_data/2024-12-12\n",
      "Found 2 CSV files in data/survive_test_data/2024-12-14\n",
      "Found 2 CSV files in data/survive_test_data/2024-12-13\n",
      "Found 4 CSV files in data/survive_test_data/2024-12-15\n",
      "Found 4 CSV files in data/survive_test_data/2024-12-16\n",
      "Found 4 CSV files in data/survive_test_data/2024-12-17\n",
      "Found 4 CSV files in data/survive_test_data/2024-12-18\n",
      "Found 4 CSV files in data/survive_test_data/2024-12-19\n",
      "Found 4 CSV files in data/survive_test_data/2024-12-20\n",
      "Found 4 CSV files in data/survive_test_data/2024-12-21\n",
      "Found 4 CSV files in data/survive_test_data/2024-12-22\n",
      "Found 4 CSV files in data/survive_test_data/2024-12-23\n"
     ]
    },
    {
     "name": "stderr",
     "output_type": "stream",
     "text": [
      "Processing new dates: 100%|██████████| 366/366 [00:02<00:00, 129.97it/s]"
     ]
    },
    {
     "name": "stdout",
     "output_type": "stream",
     "text": [
      "Found 4 CSV files in data/survive_test_data/2024-12-24\n",
      "Found 4 CSV files in data/survive_test_data/2024-12-25\n",
      "Found 4 CSV files in data/survive_test_data/2024-12-26\n",
      "Found 4 CSV files in data/survive_test_data/2024-12-27\n",
      "Found 4 CSV files in data/survive_test_data/2024-12-28\n",
      "Found 4 CSV files in data/survive_test_data/2024-12-29\n",
      "Found 4 CSV files in data/survive_test_data/2024-12-30\n",
      "Found 4 CSV files in data/survive_test_data/2024-12-31\n"
     ]
    },
    {
     "name": "stderr",
     "output_type": "stream",
     "text": [
      "\n"
     ]
    },
    {
     "name": "stdout",
     "output_type": "stream",
     "text": [
      "Saved 1942 active shops to test_active_shops.csv\n",
      "Saved 142 inactive shops to test_inactive_shops.csv\n"
     ]
    }
   ],
   "source": [
    "# example usage - update test records\n",
    "# usage - create new records\n",
    "active, inactive = update_survival_dfs(\n",
    "    base_folder=\"data/survive_test_data\",\n",
    "    start_date=\"2024-01-01\",  # Just process new dates\n",
    "    end_date=\"2024-12-31\",\n",
    "    keywords=[],\n",
    "    max_workers=8,\n",
    "    active_file=\"test_active_shops.csv\",\n",
    "    inactive_file=\"test_inactive_shops.csv\"\n",
    ")"
   ]
  },
  {
   "cell_type": "code",
   "execution_count": 32,
   "metadata": {},
   "outputs": [
    {
     "name": "stdout",
     "output_type": "stream",
     "text": [
      "Loaded 1942 shops from test_active_shops.csv\n",
      "Loaded 142 shops from test_inactive_shops.csv\n"
     ]
    },
    {
     "name": "stderr",
     "output_type": "stream",
     "text": [
      "Processing new dates: 100%|██████████| 1/1 [00:00<00:00, 200.89it/s]"
     ]
    },
    {
     "name": "stdout",
     "output_type": "stream",
     "text": [
      "Found 1 CSV files in data/survive_test_data/2025-01-01\n",
      "Saved 1942 active shops to test_active_shops.csv\n",
      "Saved 142 inactive shops to test_inactive_shops.csv\n"
     ]
    },
    {
     "name": "stderr",
     "output_type": "stream",
     "text": [
      "\n"
     ]
    }
   ],
   "source": [
    "# usage - create new records\n",
    "active, inactive = update_survival_dfs(\n",
    "    base_folder=\"data/survive_test_data\",\n",
    "    start_date=\"2025-01-01\",  # Just process new dates\n",
    "    end_date=\"2025-01-01\",\n",
    "    keywords=[],\n",
    "    max_workers=8,\n",
    "    active_file=\"test_active_shops.csv\",\n",
    "    inactive_file=\"test_inactive_shops.csv\"\n",
    ")"
   ]
  },
  {
   "cell_type": "markdown",
   "metadata": {},
   "source": [
    "## inplement on files in google drive"
   ]
  },
  {
   "cell_type": "code",
   "execution_count": 29,
   "metadata": {},
   "outputs": [
    {
     "name": "stderr",
     "output_type": "stream",
     "text": [
      "Processing new dates:   0%|          | 0/2 [00:00<?, ?it/s]"
     ]
    },
    {
     "name": "stdout",
     "output_type": "stream",
     "text": [
      "Found 543 CSV files in /Users/yun/Library/CloudStorage/GoogleDrive-racoffee33@gmail.com/.shortcut-targets-by-id/1ouHUfwV9gjb5MilbqRsuT55HCukAcivErdpeotDNOF0iimcyQ3_uQTwHwmAdJB_CMVcuQmNG/FoodpandaUbereat/foodpanda_crawler_beta_2/shopLst/2023-07-14\n",
      "Found 543 CSV files in /Users/yun/Library/CloudStorage/GoogleDrive-racoffee33@gmail.com/.shortcut-targets-by-id/1ouHUfwV9gjb5MilbqRsuT55HCukAcivErdpeotDNOF0iimcyQ3_uQTwHwmAdJB_CMVcuQmNG/FoodpandaUbereat/foodpanda_crawler_beta_2/shopLst/2023-07-15\n"
     ]
    },
    {
     "name": "stderr",
     "output_type": "stream",
     "text": [
      "/var/folders/bn/cmh08yxx3k7bh72tl2kp5drm0000gn/T/ipykernel_24493/3202663225.py:48: FutureWarning: The behavior of DataFrame concatenation with empty or all-NA entries is deprecated. In a future version, this will no longer exclude empty or all-NA columns when determining the result dtypes. To retain the old behavior, exclude the relevant entries before the concat operation.\n",
      "  return pd.concat(dfs, ignore_index=True) if dfs else pd.DataFrame()\n",
      "Processing new dates: 100%|██████████| 2/2 [00:04<00:00,  2.46s/it]\n"
     ]
    },
    {
     "name": "stdout",
     "output_type": "stream",
     "text": [
      "Saved 59498 active shops to active_shops.csv\n",
      "Saved 0 inactive shops to inactive_shops.csv\n"
     ]
    }
   ],
   "source": [
    "# usage - create new records\n",
    "active, inactive = update_survival_dfs(\n",
    "    base_folder=\"/Users/yun/Library/CloudStorage/GoogleDrive-racoffee33@gmail.com/.shortcut-targets-by-id/1ouHUfwV9gjb5MilbqRsuT55HCukAcivErdpeotDNOF0iimcyQ3_uQTwHwmAdJB_CMVcuQmNG/FoodpandaUbereat/foodpanda_crawler_beta_2/shopLst\",\n",
    "    start_date=\"2023-07-14\",  # Just process new dates\n",
    "    end_date=\"2023-07-15\",\n",
    "    keywords=['shopLst'], \n",
    "    max_workers=8,\n",
    "    active_file=\"active_shops.csv\",\n",
    "    inactive_file=\"inactive_shops.csv\"\n",
    ")"
   ]
  }
 ],
 "metadata": {
  "kernelspec": {
   "display_name": "selniumbase",
   "language": "python",
   "name": "python3"
  },
  "language_info": {
   "codemirror_mode": {
    "name": "ipython",
    "version": 3
   },
   "file_extension": ".py",
   "mimetype": "text/x-python",
   "name": "python",
   "nbconvert_exporter": "python",
   "pygments_lexer": "ipython3",
   "version": "3.11.8"
  }
 },
 "nbformat": 4,
 "nbformat_minor": 2
}
